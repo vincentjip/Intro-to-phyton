{
  "nbformat": 4,
  "nbformat_minor": 0,
  "metadata": {
    "kernelspec": {
      "display_name": "Python 3",
      "language": "python",
      "name": "python3"
    },
    "language_info": {
      "codemirror_mode": {
        "name": "ipython",
        "version": 3
      },
      "file_extension": ".py",
      "mimetype": "text/x-python",
      "name": "python",
      "nbconvert_exporter": "python",
      "pygments_lexer": "ipython3",
      "version": "3.7.3"
    },
    "colab": {
      "name": "Copy of 06_01_begin.ipynb",
      "provenance": [],
      "include_colab_link": true
    }
  },
  "cells": [
    {
      "cell_type": "markdown",
      "metadata": {
        "id": "view-in-github",
        "colab_type": "text"
      },
      "source": [
        "<a href=\"https://colab.research.google.com/github/vincentjip/Intro-to-phyton/blob/master/Copy_of_06_01_begin.ipynb\" target=\"_parent\"><img src=\"https://colab.research.google.com/assets/colab-badge.svg\" alt=\"Open In Colab\"/></a>"
      ]
    },
    {
      "cell_type": "markdown",
      "metadata": {
        "id": "CQ_fQWYyHgdO",
        "colab_type": "text"
      },
      "source": [
        "# Chapter 6 - Data Sourcing via Web\n",
        "## Part 1 - Objects in BeautifulSoup"
      ]
    },
    {
      "cell_type": "code",
      "metadata": {
        "id": "nAl0C2yPFita",
        "colab_type": "code",
        "colab": {}
      },
      "source": [
        "from bs4 import BeautifulSoup"
      ],
      "execution_count": 0,
      "outputs": []
    },
    {
      "cell_type": "code",
      "metadata": {
        "id": "Kql2AeRIHgdR",
        "colab_type": "code",
        "colab": {}
      },
      "source": [
        ""
      ],
      "execution_count": 0,
      "outputs": []
    },
    {
      "cell_type": "code",
      "metadata": {
        "id": "1wH-HYBnHgdW",
        "colab_type": "code",
        "colab": {}
      },
      "source": [
        ""
      ],
      "execution_count": 0,
      "outputs": []
    },
    {
      "cell_type": "markdown",
      "metadata": {
        "collapsed": true,
        "id": "EOP1Z0dfHgde",
        "colab_type": "text"
      },
      "source": [
        "### BeautifulSoup objects "
      ]
    },
    {
      "cell_type": "code",
      "metadata": {
        "id": "7f-FX6PPHgdf",
        "colab_type": "code",
        "colab": {}
      },
      "source": [
        "our_html_document = '''\n",
        "<html><head><title>IoT Articles</title></head>\n",
        "<body>\n",
        "<p class='title'><b>2018 Trends: Best New IoT Device Ideas for Data Scientists and Engineers</b></p>\n",
        "\n",
        "<p class='description'>It’s almost 2018 and IoT is on the cusp of an explosive expansion. In this article, I offer you a listing of new IoT device ideas that you can use...\n",
        "<br>\n",
        "<br>\n",
        "It’s almost 2018 and IoT is on the cusp of an explosive expansion. In this article, I offer you a listing of new IoT device ideas that you can use to get practice in designing your first IoT applications.\n",
        "<h1>Looking Back at My Coolest IoT Find in 2017</h1>\n",
        "Before going into detail about best new IoT device ideas, here’s the backstory. <span style=\"text-decoration: underline;\"><strong><a href=\"http://bit.ly/LPlNDJj\">Last month Ericsson Digital invited me</a></strong></span> to tour the Ericsson Studio in Kista, Sweden. Up until that visit, <a href=\"http://www.data-mania.com/blog/m2m-vs-iot/\">IoT</a> had been largely theoretical to me. Of course, I know the usual mumbo-jumbo about wearables and IoT-connected fitness trackers. That stuff is all well and good, but it’s somewhat old hat – plus I am not sure we are really benefiting so much from those, so I’m not that impressed.\n",
        "\n",
        "It wasn’t until I got to the Ericsson Studio that I became extremely impressed by how far IoT has really come. Relying on the promise of the 5g network expansion, IoT-powered smart devices are on the cusp of an explosive growth in adoption. It was Ericsson’s Smart Car that sent me reeling:<a href=\"bit.ly/LPlNDJj\"><img class=\"aligncenter size-full wp-image-3802\" src=\"http://www.data-mania.com/blog/wp-content/uploads/2017/12/new-IoT-device-ideas.jpg\" alt=\"Get your new iot device ideas here\" width=\"1024\" height=\"683\" /></a>\n",
        "\n",
        "This car is connected to Ericsson’s Connected Vehicle Cloud, an IoT platform that manages services for the Smart Cars to which it’s connected. The Volvo pictured above acts as a drop-off location for groceries that have been ordered by its owner.\n",
        "\n",
        "To understand how it works, imagine you’re pulling your normal 9-to-5 and you know you need to grab some groceries on your way home. Well, since you’re smart you’ve used Ericsson IoT platform to connect your car to the local grocery delivery service (<a href=\"http://mat.se/\">Mat.se</a>), so all you need to do is open the Mat.se app and make your usual order. Mat.se automatically handles the payment, grocery selection, delivery, and delivery scheduling. Since your car is IoT-enabled, Mat.se issues its trusted delivery agent a 1-time token to use for opening your car in order to place your groceries in your car for you at 4:40 pm (just before you get off from work).\n",
        "\n",
        "To watch some of the amazing IoT device demos I witnessed at Ericsson Studio, make sure to go <span style=\"text-decoration: underline;\"><strong><a href=\"http://bit.ly/LPlNDJj\">watch the videos on this page</a></strong></span>.\n",
        "<h1>Future Trends for IoT in 2018</h1>\n",
        "New IoT device ideas won’t do you much good unless you at least know the basic technology trends that are set to impact IoT over the next year(s). These include:\n",
        "<ol>\n",
        " \t<li><strong>Big Data</strong> &amp; Data Engineering: Sensors that are embedded within IoT devices spin off machine-generated data like it’s going out of style. For IoT to function, the platform must be solidly engineered to handle big data. Be assured, that requires some serious data engineering.</li>\n",
        " \t<li><strong>Machine Learning</strong> Data Science: While a lot of IoT devices are still operated according to rules-based decision criteria, the age of artificial intelligence is upon us. IoT will increasingly depend on machine learning algorithms to control device operations so that devices are able to autonomously respond to a complex set of overlapping stimuli.</li>\n",
        " \t<li><strong>Blockchain</strong>-Enabled Security: Above all else, IoT networks must be secure. Blockchain technology is primed to meet the security demands that come along with building and expanding the IoT.</li>\n",
        "</ol>\n",
        "<h1>Best New IoT Device Ideas</h1>\n",
        "This listing of new IoT device ideas has been sub-divided according to the main technology upon which the IoT devices are built. Below I’m providing a list of new IoT device ideas, but for detailed instructions on how to build these IoT applications, I recommend the <a href=\"https://click.linksynergy.com/deeplink?id=*JDLXjeE*wk&amp;mid=39197&amp;murl=https%3A%2F%2Fwww.udemy.com%2Ftopic%2Finternet-of-things%2F%3Fsort%3Dhighest-rated\">IoT courses on Udemy</a> (ß Please note: if you purchase a Udemy course through this link, I may receive a small commission), or courses that are available at <a href=\"http://www.skyfilabs.com/iot-online-courses\">SkyFi</a> and <a href=\"https://www.coursera.org/specializations/iot\">Coursera</a>.\n",
        "<h2>Raspberry Pi IoT Ideas</h2>\n",
        "Using Raspberry Pi as open-source hardware, you can build IoT applications that offer any one of the following benefits:\n",
        "<ol>\n",
        " \t<li>Enable built-in sensing to build a weather station that measures ambient temperature and humidity</li>\n",
        " \t<li>Build a system that detects discrepancies in electrical readings to identify electricity theft</li>\n",
        " \t<li>Use IoT to build a Servo that is controlled by motion detection readings</li>\n",
        " \t<li>Build a smart control switch that operates devices based on external stimuli. Use this for home automation.</li>\n",
        " \t<li>Build a music playing application that enables music for each room in your house</li>\n",
        " \t<li>Implement biometrics on IoT-connected devices</li>\n",
        "</ol>\n",
        "<h2>Arduino IoT Ideas</h2>\n",
        "There are a number of new IoT device ideas that deploy Arduino as a microcontroller. These include:\n",
        "<ol>\n",
        " \t<li>Integrate Arduino with Android to build a remote-control RGB LED device.</li>\n",
        " \t<li>Connect PIR sensors across the IoT to implement a smart building.</li>\n",
        " \t<li>Build a temperature and sunlight sensor system to remotely monitor and control the conditions of your garden.</li>\n",
        " \t<li>Deploy Arduino and IoT to automate your neighborhood streetlights.</li>\n",
        " \t<li>Build a smart irrigation system based on IoT-connected temperature and moisture sensors built-in to your agricultural plants.</li>\n",
        "</ol>\n",
        "[caption id=\"attachment_3807\" align=\"aligncenter\" width=\"300\"]<a href=\"bit.ly/LPlNDJj\"><img class=\"wp-image-3807 size-medium\" src=\"http://www.data-mania.com/blog/wp-content/uploads/2017/12/IMG_3058-300x295.jpg\" alt=\"\" width=\"300\" height=\"295\" /></a> An IoT Chatbot Tree at the Ericsson Studio[/caption]\n",
        "<h2>Wireless (GSM) IoT Ideas</h2>\n",
        "Several new IoT device ideas are developed around the GSM wireless network. Those are:\n",
        "<ol>\n",
        " \t<li>Monitor soil moisture to automate agricultural irrigation cycles.</li>\n",
        " \t<li>Automate and control the conditions of a greenhouse.</li>\n",
        " \t<li>Enable bio-metrics to build a smart security system for your home or office building</li>\n",
        " \t<li>Build an autonomously operating fitness application that automatically makes recommendations based on motion detection and heart rate sensors that are embedded on wearable fitness trackers.</li>\n",
        " \t<li>Build a healthcare monitoring system that tracks, informs, and automatically alerts healthcare providers based on sensor readings that describe a patients vital statistics (like temperature, pulse, blood pressure, etc).</li>\n",
        "</ol>\n",
        "<h2>IoT Automation Ideas</h2>\n",
        "Almost all new IoT device ideas offer automation benefits, but to outline a few more ideas:\n",
        "<ol>\n",
        " \t<li>Build an IoT device that automatically locates and reports the closest nearby parking spot.</li>\n",
        " \t<li>Build a motion detection system that automatically issues emails or sms messages to alert home owners of a likely home invasion.</li>\n",
        " \t<li>Use temperature sensors connected across the IoT to automatically alert you if your home windows or doors have been left open.</li>\n",
        " \t<li>Use bio-metric sensors to build a smart system that automate security for your home or office building</li>\n",
        "</ol>\n",
        "To learn more about IoT and what’s happening on the leading edge, be sure to pop over to Ericsson’s Studio Tour recap and <span style=\"text-decoration: underline;\"><strong><a href=\"http://bit.ly/LPlNDJj\">watch these videos</a></strong></span>.\n",
        "\n",
        "<em>(I captured some of this content on behalf of DevMode Strategies during an invite-only tour of the Ericsson Studio in Kista. Rest assure, the text and opinions are my own</em>)\n",
        "<p class='description'>...</p>\n",
        "'''"
      ],
      "execution_count": 0,
      "outputs": []
    },
    {
      "cell_type": "code",
      "metadata": {
        "id": "mUZpzQ9EHgdi",
        "colab_type": "code",
        "outputId": "521ea6cf-9789-4945-a7c4-f0dabd495e85",
        "colab": {
          "base_uri": "https://localhost:8080/",
          "height": 1000
        }
      },
      "source": [
        "our_soup_object = BeautifulSoup(our_html_document, 'html.parser')\n",
        "print(our_soup_object)"
      ],
      "execution_count": 0,
      "outputs": [
        {
          "output_type": "stream",
          "text": [
            "\n",
            "<html><head><title>IoT Articles</title></head>\n",
            "<body>\n",
            "<p class=\"title\"><b>2018 Trends: Best New IoT Device Ideas for Data Scientists and Engineers</b></p>\n",
            "<p class=\"description\">It’s almost 2018 and IoT is on the cusp of an explosive expansion. In this article, I offer you a listing of new IoT device ideas that you can use...\n",
            "<br/>\n",
            "<br/>\n",
            "It’s almost 2018 and IoT is on the cusp of an explosive expansion. In this article, I offer you a listing of new IoT device ideas that you can use to get practice in designing your first IoT applications.\n",
            "<h1>Looking Back at My Coolest IoT Find in 2017</h1>\n",
            "Before going into detail about best new IoT device ideas, here’s the backstory. <span style=\"text-decoration: underline;\"><strong><a href=\"http://bit.ly/LPlNDJj\">Last month Ericsson Digital invited me</a></strong></span> to tour the Ericsson Studio in Kista, Sweden. Up until that visit, <a href=\"http://www.data-mania.com/blog/m2m-vs-iot/\">IoT</a> had been largely theoretical to me. Of course, I know the usual mumbo-jumbo about wearables and IoT-connected fitness trackers. That stuff is all well and good, but it’s somewhat old hat – plus I am not sure we are really benefiting so much from those, so I’m not that impressed.\n",
            "\n",
            "It wasn’t until I got to the Ericsson Studio that I became extremely impressed by how far IoT has really come. Relying on the promise of the 5g network expansion, IoT-powered smart devices are on the cusp of an explosive growth in adoption. It was Ericsson’s Smart Car that sent me reeling:<a href=\"bit.ly/LPlNDJj\"><img alt=\"Get your new iot device ideas here\" class=\"aligncenter size-full wp-image-3802\" height=\"683\" src=\"http://www.data-mania.com/blog/wp-content/uploads/2017/12/new-IoT-device-ideas.jpg\" width=\"1024\"/></a>\n",
            "\n",
            "This car is connected to Ericsson’s Connected Vehicle Cloud, an IoT platform that manages services for the Smart Cars to which it’s connected. The Volvo pictured above acts as a drop-off location for groceries that have been ordered by its owner.\n",
            "\n",
            "To understand how it works, imagine you’re pulling your normal 9-to-5 and you know you need to grab some groceries on your way home. Well, since you’re smart you’ve used Ericsson IoT platform to connect your car to the local grocery delivery service (<a href=\"http://mat.se/\">Mat.se</a>), so all you need to do is open the Mat.se app and make your usual order. Mat.se automatically handles the payment, grocery selection, delivery, and delivery scheduling. Since your car is IoT-enabled, Mat.se issues its trusted delivery agent a 1-time token to use for opening your car in order to place your groceries in your car for you at 4:40 pm (just before you get off from work).\n",
            "\n",
            "To watch some of the amazing IoT device demos I witnessed at Ericsson Studio, make sure to go <span style=\"text-decoration: underline;\"><strong><a href=\"http://bit.ly/LPlNDJj\">watch the videos on this page</a></strong></span>.\n",
            "<h1>Future Trends for IoT in 2018</h1>\n",
            "New IoT device ideas won’t do you much good unless you at least know the basic technology trends that are set to impact IoT over the next year(s). These include:\n",
            "<ol>\n",
            "<li><strong>Big Data</strong> &amp; Data Engineering: Sensors that are embedded within IoT devices spin off machine-generated data like it’s going out of style. For IoT to function, the platform must be solidly engineered to handle big data. Be assured, that requires some serious data engineering.</li>\n",
            "<li><strong>Machine Learning</strong> Data Science: While a lot of IoT devices are still operated according to rules-based decision criteria, the age of artificial intelligence is upon us. IoT will increasingly depend on machine learning algorithms to control device operations so that devices are able to autonomously respond to a complex set of overlapping stimuli.</li>\n",
            "<li><strong>Blockchain</strong>-Enabled Security: Above all else, IoT networks must be secure. Blockchain technology is primed to meet the security demands that come along with building and expanding the IoT.</li>\n",
            "</ol>\n",
            "<h1>Best New IoT Device Ideas</h1>\n",
            "This listing of new IoT device ideas has been sub-divided according to the main technology upon which the IoT devices are built. Below I’m providing a list of new IoT device ideas, but for detailed instructions on how to build these IoT applications, I recommend the <a href=\"https://click.linksynergy.com/deeplink?id=*JDLXjeE*wk&amp;mid=39197&amp;murl=https%3A%2F%2Fwww.udemy.com%2Ftopic%2Finternet-of-things%2F%3Fsort%3Dhighest-rated\">IoT courses on Udemy</a> (ß Please note: if you purchase a Udemy course through this link, I may receive a small commission), or courses that are available at <a href=\"http://www.skyfilabs.com/iot-online-courses\">SkyFi</a> and <a href=\"https://www.coursera.org/specializations/iot\">Coursera</a>.\n",
            "<h2>Raspberry Pi IoT Ideas</h2>\n",
            "Using Raspberry Pi as open-source hardware, you can build IoT applications that offer any one of the following benefits:\n",
            "<ol>\n",
            "<li>Enable built-in sensing to build a weather station that measures ambient temperature and humidity</li>\n",
            "<li>Build a system that detects discrepancies in electrical readings to identify electricity theft</li>\n",
            "<li>Use IoT to build a Servo that is controlled by motion detection readings</li>\n",
            "<li>Build a smart control switch that operates devices based on external stimuli. Use this for home automation.</li>\n",
            "<li>Build a music playing application that enables music for each room in your house</li>\n",
            "<li>Implement biometrics on IoT-connected devices</li>\n",
            "</ol>\n",
            "<h2>Arduino IoT Ideas</h2>\n",
            "There are a number of new IoT device ideas that deploy Arduino as a microcontroller. These include:\n",
            "<ol>\n",
            "<li>Integrate Arduino with Android to build a remote-control RGB LED device.</li>\n",
            "<li>Connect PIR sensors across the IoT to implement a smart building.</li>\n",
            "<li>Build a temperature and sunlight sensor system to remotely monitor and control the conditions of your garden.</li>\n",
            "<li>Deploy Arduino and IoT to automate your neighborhood streetlights.</li>\n",
            "<li>Build a smart irrigation system based on IoT-connected temperature and moisture sensors built-in to your agricultural plants.</li>\n",
            "</ol>\n",
            "[caption id=\"attachment_3807\" align=\"aligncenter\" width=\"300\"]<a href=\"bit.ly/LPlNDJj\"><img alt=\"\" class=\"wp-image-3807 size-medium\" height=\"295\" src=\"http://www.data-mania.com/blog/wp-content/uploads/2017/12/IMG_3058-300x295.jpg\" width=\"300\"/></a> An IoT Chatbot Tree at the Ericsson Studio[/caption]\n",
            "<h2>Wireless (GSM) IoT Ideas</h2>\n",
            "Several new IoT device ideas are developed around the GSM wireless network. Those are:\n",
            "<ol>\n",
            "<li>Monitor soil moisture to automate agricultural irrigation cycles.</li>\n",
            "<li>Automate and control the conditions of a greenhouse.</li>\n",
            "<li>Enable bio-metrics to build a smart security system for your home or office building</li>\n",
            "<li>Build an autonomously operating fitness application that automatically makes recommendations based on motion detection and heart rate sensors that are embedded on wearable fitness trackers.</li>\n",
            "<li>Build a healthcare monitoring system that tracks, informs, and automatically alerts healthcare providers based on sensor readings that describe a patients vital statistics (like temperature, pulse, blood pressure, etc).</li>\n",
            "</ol>\n",
            "<h2>IoT Automation Ideas</h2>\n",
            "Almost all new IoT device ideas offer automation benefits, but to outline a few more ideas:\n",
            "<ol>\n",
            "<li>Build an IoT device that automatically locates and reports the closest nearby parking spot.</li>\n",
            "<li>Build a motion detection system that automatically issues emails or sms messages to alert home owners of a likely home invasion.</li>\n",
            "<li>Use temperature sensors connected across the IoT to automatically alert you if your home windows or doors have been left open.</li>\n",
            "<li>Use bio-metric sensors to build a smart system that automate security for your home or office building</li>\n",
            "</ol>\n",
            "To learn more about IoT and what’s happening on the leading edge, be sure to pop over to Ericsson’s Studio Tour recap and <span style=\"text-decoration: underline;\"><strong><a href=\"http://bit.ly/LPlNDJj\">watch these videos</a></strong></span>.\n",
            "\n",
            "<em>(I captured some of this content on behalf of DevMode Strategies during an invite-only tour of the Ericsson Studio in Kista. Rest assure, the text and opinions are my own</em>)\n",
            "<p class=\"description\">...</p>\n",
            "</p></body></html>\n"
          ],
          "name": "stdout"
        }
      ]
    },
    {
      "cell_type": "code",
      "metadata": {
        "id": "_46qaxVNHgdl",
        "colab_type": "code",
        "outputId": "c8ad1097-f1e7-4ad6-e3da-42f622e1b942",
        "colab": {
          "base_uri": "https://localhost:8080/",
          "height": 255
        }
      },
      "source": [
        "print(our_soup_object.prettify()[0:300])"
      ],
      "execution_count": 0,
      "outputs": [
        {
          "output_type": "stream",
          "text": [
            "<html>\n",
            " <head>\n",
            "  <title>\n",
            "   IoT Articles\n",
            "  </title>\n",
            " </head>\n",
            " <body>\n",
            "  <p class=\"title\">\n",
            "   <b>\n",
            "    2018 Trends: Best New IoT Device Ideas for Data Scientists and Engineers\n",
            "   </b>\n",
            "  </p>\n",
            "  <p class=\"description\">\n",
            "   It’s almost 2018 and IoT is on the cusp of an explosive expansion. In this article,\n"
          ],
          "name": "stdout"
        }
      ]
    },
    {
      "cell_type": "markdown",
      "metadata": {
        "collapsed": true,
        "id": "XdM0MYqTHgdq",
        "colab_type": "text"
      },
      "source": [
        "### Tag objects"
      ]
    },
    {
      "cell_type": "markdown",
      "metadata": {
        "collapsed": true,
        "id": "7pXkLfD3Hgdr",
        "colab_type": "text"
      },
      "source": [
        "#### Tag names"
      ]
    },
    {
      "cell_type": "code",
      "metadata": {
        "id": "hHT9bFUrHgdt",
        "colab_type": "code",
        "outputId": "a1718309-a054-4494-889a-479b752379cc",
        "colab": {
          "base_uri": "https://localhost:8080/",
          "height": 34
        }
      },
      "source": [
        "soup_obj = BeautifulSoup('<h1 attribute_1 = \"Heading Level 1\"\">Future Trends for IoT in 2018</h1>',\"lxml\")\n",
        "\n",
        "tag = soup_obj.h1\n",
        "type(tag)"
      ],
      "execution_count": 0,
      "outputs": [
        {
          "output_type": "execute_result",
          "data": {
            "text/plain": [
              "bs4.element.Tag"
            ]
          },
          "metadata": {
            "tags": []
          },
          "execution_count": 10
        }
      ]
    },
    {
      "cell_type": "code",
      "metadata": {
        "id": "6n-EDFm4Hgdw",
        "colab_type": "code",
        "outputId": "edd30123-49e9-4397-9d57-4278c55ba00e",
        "colab": {
          "base_uri": "https://localhost:8080/",
          "height": 34
        }
      },
      "source": [
        "print(tag)"
      ],
      "execution_count": 0,
      "outputs": [
        {
          "output_type": "stream",
          "text": [
            "<h1 attribute_1=\"Heading Level 1\">Future Trends for IoT in 2018</h1>\n"
          ],
          "name": "stdout"
        }
      ]
    },
    {
      "cell_type": "code",
      "metadata": {
        "id": "sSXfe49KHgd6",
        "colab_type": "code",
        "outputId": "ea2f8a0d-776c-4b2f-b357-d7c86d785484",
        "colab": {
          "base_uri": "https://localhost:8080/",
          "height": 34
        }
      },
      "source": [
        "tag.name"
      ],
      "execution_count": 0,
      "outputs": [
        {
          "output_type": "execute_result",
          "data": {
            "text/plain": [
              "'h1'"
            ]
          },
          "metadata": {
            "tags": []
          },
          "execution_count": 12
        }
      ]
    },
    {
      "cell_type": "code",
      "metadata": {
        "id": "i5od47h4Hgd9",
        "colab_type": "code",
        "colab": {}
      },
      "source": [
        "tag.name = 'heading 1'"
      ],
      "execution_count": 0,
      "outputs": []
    },
    {
      "cell_type": "code",
      "metadata": {
        "id": "zuljfnx8HgeA",
        "colab_type": "code",
        "outputId": "5b950a6b-ced3-487d-bd8b-88bdf6b5f4c6",
        "colab": {
          "base_uri": "https://localhost:8080/",
          "height": 34
        }
      },
      "source": [
        "tag"
      ],
      "execution_count": 0,
      "outputs": [
        {
          "output_type": "execute_result",
          "data": {
            "text/plain": [
              "<heading 1 attribute_1=\"Heading Level 1\">Future Trends for IoT in 2018</heading 1>"
            ]
          },
          "metadata": {
            "tags": []
          },
          "execution_count": 15
        }
      ]
    },
    {
      "cell_type": "markdown",
      "metadata": {
        "collapsed": true,
        "id": "cc8C0hurHgeC",
        "colab_type": "text"
      },
      "source": [
        "#### Tag attributes"
      ]
    },
    {
      "cell_type": "code",
      "metadata": {
        "id": "OoTkAlMBHgeC",
        "colab_type": "code",
        "outputId": "a0a33cab-f203-4b06-a60b-6cacd2e4577c",
        "colab": {
          "base_uri": "https://localhost:8080/",
          "height": 34
        }
      },
      "source": [
        "soup_object = BeautifulSoup('<h1 attribute_1 = \"Heading Level 1\"\">Future Trends for IoT in 2018</h1>',\"lxml\")\n",
        "tag = soup_object.h1\n",
        "tag"
      ],
      "execution_count": 0,
      "outputs": [
        {
          "output_type": "execute_result",
          "data": {
            "text/plain": [
              "<h1 attribute_1=\"Heading Level 1\">Future Trends for IoT in 2018</h1>"
            ]
          },
          "metadata": {
            "tags": []
          },
          "execution_count": 16
        }
      ]
    },
    {
      "cell_type": "code",
      "metadata": {
        "id": "KHGluyhUHgeF",
        "colab_type": "code",
        "outputId": "f42f3f0f-0bd7-45e5-c9aa-582e14f40877",
        "colab": {
          "base_uri": "https://localhost:8080/",
          "height": 34
        }
      },
      "source": [
        "tag['attribute_1']"
      ],
      "execution_count": 0,
      "outputs": [
        {
          "output_type": "execute_result",
          "data": {
            "text/plain": [
              "'Heading Level 1'"
            ]
          },
          "metadata": {
            "tags": []
          },
          "execution_count": 18
        }
      ]
    },
    {
      "cell_type": "code",
      "metadata": {
        "id": "EbFYcz_-HgeH",
        "colab_type": "code",
        "outputId": "75704eca-0be9-4a28-d86d-08b21a5e57f0",
        "colab": {
          "base_uri": "https://localhost:8080/",
          "height": 34
        }
      },
      "source": [
        "tag.attrs"
      ],
      "execution_count": 0,
      "outputs": [
        {
          "output_type": "execute_result",
          "data": {
            "text/plain": [
              "{'attribute_1': 'Heading Level 1'}"
            ]
          },
          "metadata": {
            "tags": []
          },
          "execution_count": 19
        }
      ]
    },
    {
      "cell_type": "code",
      "metadata": {
        "id": "g1mX3Vs1HgeL",
        "colab_type": "code",
        "colab": {}
      },
      "source": [
        ""
      ],
      "execution_count": 0,
      "outputs": []
    },
    {
      "cell_type": "code",
      "metadata": {
        "id": "LXGN5263HgeO",
        "colab_type": "code",
        "colab": {}
      },
      "source": [
        ""
      ],
      "execution_count": 0,
      "outputs": []
    },
    {
      "cell_type": "code",
      "metadata": {
        "id": "YnOBjJTRHgeR",
        "colab_type": "code",
        "colab": {}
      },
      "source": [
        ""
      ],
      "execution_count": 0,
      "outputs": []
    },
    {
      "cell_type": "code",
      "metadata": {
        "id": "p_nL9-thHgeT",
        "colab_type": "code",
        "colab": {}
      },
      "source": [
        ""
      ],
      "execution_count": 0,
      "outputs": []
    },
    {
      "cell_type": "markdown",
      "metadata": {
        "id": "Jl1YvMLrHgeV",
        "colab_type": "text"
      },
      "source": [
        "#### Navigating a parse tree using tags"
      ]
    },
    {
      "cell_type": "code",
      "metadata": {
        "id": "jqt8EFGRHgeW",
        "colab_type": "code",
        "colab": {}
      },
      "source": [
        "# First we will recreate our original parse tree.\n",
        "our_html_document = '''\n",
        "<html><head><title>IoT Articles</title></head>\n",
        "<body>\n",
        "<p class='title'><b>2018 Trends: Best New IoT Device Ideas for Data Scientists and Engineers</b></p>\n",
        "\n",
        "<p class='description'>It’s almost 2018 and IoT is on the cusp of an explosive expansion. In this article, I offer you a listing of new IoT device ideas that you can use...\n",
        "<br>\n",
        "<br>\n",
        "It’s almost 2018 and IoT is on the cusp of an explosive expansion. In this article, I offer you a listing of new IoT device ideas that you can use to get practice in designing your first IoT applications.\n",
        "<h1>Looking Back at My Coolest IoT Find in 2017</h1>\n",
        "Before going into detail about best new IoT device ideas, here’s the backstory. <span style=\"text-decoration: underline;\"><strong><a href=\"http://bit.ly/LPlNDJj\">Last month Ericsson Digital invited me</a></strong></span> to tour the Ericsson Studio in Kista, Sweden. Up until that visit, <a href=\"http://www.data-mania.com/blog/m2m-vs-iot/\">IoT</a> had been largely theoretical to me. Of course, I know the usual mumbo-jumbo about wearables and IoT-connected fitness trackers. That stuff is all well and good, but it’s somewhat old hat – plus I am not sure we are really benefiting so much from those, so I’m not that impressed.\n",
        "\n",
        "It wasn’t until I got to the Ericsson Studio that I became extremely impressed by how far IoT has really come. Relying on the promise of the 5g network expansion, IoT-powered smart devices are on the cusp of an explosive growth in adoption. It was Ericsson’s Smart Car that sent me reeling:<a href=\"bit.ly/LPlNDJj\"><img class=\"aligncenter size-full wp-image-3802\" src=\"http://www.data-mania.com/blog/wp-content/uploads/2017/12/new-IoT-device-ideas.jpg\" alt=\"Get your new iot device ideas here\" width=\"1024\" height=\"683\" /></a>\n",
        "\n",
        "This car is connected to Ericsson’s Connected Vehicle Cloud, an IoT platform that manages services for the Smart Cars to which it’s connected. The Volvo pictured above acts as a drop-off location for groceries that have been ordered by its owner.\n",
        "\n",
        "To understand how it works, imagine you’re pulling your normal 9-to-5 and you know you need to grab some groceries on your way home. Well, since you’re smart you’ve used Ericsson IoT platform to connect your car to the local grocery delivery service (<a href=\"http://mat.se/\">Mat.se</a>), so all you need to do is open the Mat.se app and make your usual order. Mat.se automatically handles the payment, grocery selection, delivery, and delivery scheduling. Since your car is IoT-enabled, Mat.se issues its trusted delivery agent a 1-time token to use for opening your car in order to place your groceries in your car for you at 4:40 pm (just before you get off from work).\n",
        "\n",
        "To watch some of the amazing IoT device demos I witnessed at Ericsson Studio, make sure to go <span style=\"text-decoration: underline;\"><strong><a href=\"http://bit.ly/LPlNDJj\">watch the videos on this page</a></strong></span>.\n",
        "<h1>Future Trends for IoT in 2018</h1>\n",
        "New IoT device ideas won’t do you much good unless you at least know the basic technology trends that are set to impact IoT over the next year(s). These include:\n",
        "<ol>\n",
        " \t<li><strong>Big Data</strong> &amp; Data Engineering: Sensors that are embedded within IoT devices spin off machine-generated data like it’s going out of style. For IoT to function, the platform must be solidly engineered to handle big data. Be assured, that requires some serious data engineering.</li>\n",
        " \t<li><strong>Machine Learning</strong> Data Science: While a lot of IoT devices are still operated according to rules-based decision criteria, the age of artificial intelligence is upon us. IoT will increasingly depend on machine learning algorithms to control device operations so that devices are able to autonomously respond to a complex set of overlapping stimuli.</li>\n",
        " \t<li><strong>Blockchain</strong>-Enabled Security: Above all else, IoT networks must be secure. Blockchain technology is primed to meet the security demands that come along with building and expanding the IoT.</li>\n",
        "</ol>\n",
        "<h1>Best New IoT Device Ideas</h1>\n",
        "This listing of new IoT device ideas has been sub-divided according to the main technology upon which the IoT devices are built. Below I’m providing a list of new IoT device ideas, but for detailed instructions on how to build these IoT applications, I recommend the <a href=\"https://click.linksynergy.com/deeplink?id=*JDLXjeE*wk&amp;mid=39197&amp;murl=https%3A%2F%2Fwww.udemy.com%2Ftopic%2Finternet-of-things%2F%3Fsort%3Dhighest-rated\">IoT courses on Udemy</a> (ß Please note: if you purchase a Udemy course through this link, I may receive a small commission), or courses that are available at <a href=\"http://www.skyfilabs.com/iot-online-courses\">SkyFi</a> and <a href=\"https://www.coursera.org/specializations/iot\">Coursera</a>.\n",
        "<h2>Raspberry Pi IoT Ideas</h2>\n",
        "Using Raspberry Pi as open-source hardware, you can build IoT applications that offer any one of the following benefits:\n",
        "<ol>\n",
        " \t<li>Enable built-in sensing to build a weather station that measures ambient temperature and humidity</li>\n",
        " \t<li>Build a system that detects discrepancies in electrical readings to identify electricity theft</li>\n",
        " \t<li>Use IoT to build a Servo that is controlled by motion detection readings</li>\n",
        " \t<li>Build a smart control switch that operates devices based on external stimuli. Use this for home automation.</li>\n",
        " \t<li>Build a music playing application that enables music for each room in your house</li>\n",
        " \t<li>Implement biometrics on IoT-connected devices</li>\n",
        "</ol>\n",
        "<h2>Arduino IoT Ideas</h2>\n",
        "There are a number of new IoT device ideas that deploy Arduino as a microcontroller. These include:\n",
        "<ol>\n",
        " \t<li>Integrate Arduino with Android to build a remote-control RGB LED device.</li>\n",
        " \t<li>Connect PIR sensors across the IoT to implement a smart building.</li>\n",
        " \t<li>Build a temperature and sunlight sensor system to remotely monitor and control the conditions of your garden.</li>\n",
        " \t<li>Deploy Arduino and IoT to automate your neighborhood streetlights.</li>\n",
        " \t<li>Build a smart irrigation system based on IoT-connected temperature and moisture sensors built-in to your agricultural plants.</li>\n",
        "</ol>\n",
        "[caption id=\"attachment_3807\" align=\"aligncenter\" width=\"300\"]<a href=\"bit.ly/LPlNDJj\"><img class=\"wp-image-3807 size-medium\" src=\"http://www.data-mania.com/blog/wp-content/uploads/2017/12/IMG_3058-300x295.jpg\" alt=\"\" width=\"300\" height=\"295\" /></a> An IoT Chatbot Tree at the Ericsson Studio[/caption]\n",
        "<h2>Wireless (GSM) IoT Ideas</h2>\n",
        "Several new IoT device ideas are developed around the GSM wireless network. Those are:\n",
        "<ol>\n",
        " \t<li>Monitor soil moisture to automate agricultural irrigation cycles.</li>\n",
        " \t<li>Automate and control the conditions of a greenhouse.</li>\n",
        " \t<li>Enable bio-metrics to build a smart security system for your home or office building</li>\n",
        " \t<li>Build an autonomously operating fitness application that automatically makes recommendations based on motion detection and heart rate sensors that are embedded on wearable fitness trackers.</li>\n",
        " \t<li>Build a healthcare monitoring system that tracks, informs, and automatically alerts healthcare providers based on sensor readings that describe a patients vital statistics (like temperature, pulse, blood pressure, etc).</li>\n",
        "</ol>\n",
        "<h2>IoT Automation Ideas</h2>\n",
        "Almost all new IoT device ideas offer automation benefits, but to outline a few more ideas:\n",
        "<ol>\n",
        " \t<li>Build an IoT device that automatically locates and reports the closest nearby parking spot.</li>\n",
        " \t<li>Build a motion detection system that automatically issues emails or sms messages to alert home owners of a likely home invasion.</li>\n",
        " \t<li>Use temperature sensors connected across the IoT to automatically alert you if your home windows or doors have been left open.</li>\n",
        " \t<li>Use bio-metric sensors to build a smart system that automate security for your home or office building</li>\n",
        "</ol>\n",
        "To learn more about IoT and what’s happening on the leading edge, be sure to pop over to Ericsson’s Studio Tour recap and <span style=\"text-decoration: underline;\"><strong><a href=\"http://bit.ly/LPlNDJj\">watch these videos</a></strong></span>.\n",
        "\n",
        "<em>(I captured some of this content on behalf of DevMode Strategies during an invite-only tour of the Ericsson Studio in Kista. Rest assure, the text and opinions are my own</em>)\n",
        "<p class='description'>...</p>\n",
        "'''\n",
        "our_soup_object = BeautifulSoup(our_html_document, 'html.parser')"
      ],
      "execution_count": 0,
      "outputs": []
    },
    {
      "cell_type": "code",
      "metadata": {
        "id": "2oeszrerHgeZ",
        "colab_type": "code",
        "colab": {}
      },
      "source": [
        ""
      ],
      "execution_count": 0,
      "outputs": []
    },
    {
      "cell_type": "code",
      "metadata": {
        "id": "6-WoFrxcHgef",
        "colab_type": "code",
        "colab": {}
      },
      "source": [
        ""
      ],
      "execution_count": 0,
      "outputs": []
    },
    {
      "cell_type": "code",
      "metadata": {
        "id": "bsnnqL0qHgek",
        "colab_type": "code",
        "colab": {}
      },
      "source": [
        ""
      ],
      "execution_count": 0,
      "outputs": []
    },
    {
      "cell_type": "code",
      "metadata": {
        "id": "HdvBx1LeHgep",
        "colab_type": "code",
        "colab": {}
      },
      "source": [
        ""
      ],
      "execution_count": 0,
      "outputs": []
    },
    {
      "cell_type": "code",
      "metadata": {
        "id": "atimFiI4Hgev",
        "colab_type": "code",
        "colab": {}
      },
      "source": [
        ""
      ],
      "execution_count": 0,
      "outputs": []
    },
    {
      "cell_type": "code",
      "metadata": {
        "id": "0prZbsmwHgex",
        "colab_type": "code",
        "colab": {}
      },
      "source": [
        ""
      ],
      "execution_count": 0,
      "outputs": []
    }
  ]
}